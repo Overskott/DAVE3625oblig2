{
 "cells": [
  {
   "cell_type": "markdown",
   "metadata": {},
   "source": [
    "# Assignment 2: Machine Learning\n",
    "\n",
    "You have 10 days to work on a machine learning algorithm. I want you to pick one of the following use cases and \n",
    "make a prediction algorithm using either regression or classification algorithms.\n",
    "\n",
    "Do the following:\n",
    "\n",
    "    Pick one use case (defined below).\n",
    "    Explore and research which algorithm would work best for this use case (regression or classification)\n",
    "    Document your findings in a ReadMe.md file (3-5 lines) on why you chose this algorithm.\n",
    "    Code the algorithm using Python\n",
    "    Keep the solution as simple as possible. We are not looking for the best machine learning algorithm. \n",
    "    We are interested in seeing that you know how to work with machine learning.\n",
    "    Publish the code on GitHub and send us the link\n",
    "\n",
    "You can pick one of the following use cases:\n",
    "\n",
    "    Predict stock market price for Norwegian airlines. I want you to make a prediction algorithm which predicts the price of this stock on a specific date. Input will be date and output should be price of that stock (close value in the data file). You should also show the predction percentage score. Data file: NAS.csv\n",
    "\n"
   ]
  },
  {
   "cell_type": "code",
   "execution_count": null,
   "metadata": {},
   "outputs": [],
   "source": [
    "import numpy as np\n",
    "import pandas as pd\n",
    "import matplotlib.pyplot as plt\n",
    "%matplotlib notebook\n",
    "import seaborn as sns"
   ]
  },
  {
   "cell_type": "code",
   "execution_count": null,
   "metadata": {},
   "outputs": [],
   "source": [
    "def date_to_ordinal(date):\n",
    "    \n",
    "    date = pd.to_datetime(date) \n",
    "    \n",
    "    return (date - df['Date'].min())  / np.timedelta64(1,'D')"
   ]
  },
  {
   "cell_type": "code",
   "execution_count": null,
   "metadata": {},
   "outputs": [],
   "source": [
    "def ordinal_to_date(ordinal):\n",
    "    \n",
    "    return np.timedelta64(int(ordinal),'D') + df['Date'].min()"
   ]
  },
  {
   "cell_type": "markdown",
   "metadata": {},
   "source": [
    "### Importerer data og gjør datoene om til datetime-objekter"
   ]
  },
  {
   "cell_type": "code",
   "execution_count": null,
   "metadata": {},
   "outputs": [],
   "source": [
    "df = pd.read_csv('NAS.csv', parse_dates = ['Date'])"
   ]
  },
  {
   "cell_type": "markdown",
   "metadata": {},
   "source": [
    "### Fjerner nullverdier "
   ]
  },
  {
   "cell_type": "code",
   "execution_count": null,
   "metadata": {},
   "outputs": [],
   "source": [
    "df = df.loc[~(df.isna().any(axis = 1))].reset_index(drop = True)\n",
    "df"
   ]
  },
  {
   "cell_type": "code",
   "execution_count": null,
   "metadata": {},
   "outputs": [],
   "source": [
    "from sklearn.model_selection import train_test_split\n",
    "\n",
    "y = df['Close'].copy()\n",
    "X = df.Date.apply(date_to_ordinal).to_frame()\n",
    "X['Date^2'] = X**2\n",
    "X['Date^3'] = X.Date**3\n",
    "\n",
    "X_train, X_test, y_train, y_test = train_test_split(X, y, test_size = 0.3, random_state = 42)"
   ]
  },
  {
   "cell_type": "code",
   "execution_count": null,
   "metadata": {},
   "outputs": [],
   "source": [
    "from sklearn.linear_model import LinearRegression\n",
    "                       \n",
    "regObj = LinearRegression()\n",
    "regObj.fit(X_train.values.reshape(-1,3), y_train.values.reshape(-1,1))"
   ]
  },
  {
   "cell_type": "code",
   "execution_count": null,
   "metadata": {},
   "outputs": [],
   "source": [
    "pred_y = regObj.predict(X_test.values.reshape(-1,3))"
   ]
  },
  {
   "cell_type": "code",
   "execution_count": null,
   "metadata": {},
   "outputs": [],
   "source": [
    "res = pd.DataFrame(X_test)\n",
    "res['predy'] = pred_y"
   ]
  },
  {
   "cell_type": "code",
   "execution_count": null,
   "metadata": {},
   "outputs": [],
   "source": [
    "res"
   ]
  },
  {
   "cell_type": "code",
   "execution_count": null,
   "metadata": {},
   "outputs": [],
   "source": [
    "plt.figure(figsize = (12,8))\n",
    "sns.scatterplot(x = 'Date', y = y_test, data = res)\n",
    "sns.lineplot(x = 'Date', y = 'predy', data = res)"
   ]
  },
  {
   "cell_type": "code",
   "execution_count": null,
   "metadata": {},
   "outputs": [],
   "source": [
    "def make_prediction(date):\n",
    "    date = date_to_ordinal(date)\n",
    "    date_squared = date ** 2\n",
    "    date_cubed = date ** 3\n",
    "\n",
    "    return regObj.predict([[date, date_squared, date_cubed]])"
   ]
  },
  {
   "cell_type": "code",
   "execution_count": null,
   "metadata": {},
   "outputs": [],
   "source": [
    "make_prediction('2020-10-10')"
   ]
  },
  {
   "cell_type": "code",
   "execution_count": null,
   "metadata": {},
   "outputs": [],
   "source": []
  }
 ],
 "metadata": {
  "kernelspec": {
   "display_name": "Python 3",
   "language": "python",
   "name": "python3"
  },
  "language_info": {
   "codemirror_mode": {
    "name": "ipython",
    "version": 3
   },
   "file_extension": ".py",
   "mimetype": "text/x-python",
   "name": "python",
   "nbconvert_exporter": "python",
   "pygments_lexer": "ipython3",
   "version": "3.8.5"
  }
 },
 "nbformat": 4,
 "nbformat_minor": 4
}
